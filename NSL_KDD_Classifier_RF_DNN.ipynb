{
 "cells": [
  {
   "cell_type": "markdown",
   "metadata": {},
   "source": [
    "## Building a classifier for intrusion detection system using the NSL KDD Dataset\n"
   ]
  },
  {
   "cell_type": "code",
   "execution_count": 33,
   "metadata": {
    "id": "elIiNTCPw-_h",
    "slideshow": {
     "slide_type": "slide"
    }
   },
   "outputs": [],
   "source": [
    "import numpy as np\n",
    "import pandas as pd\n",
    "import matplotlib.pyplot as plt\n",
    "import seaborn as sns\n",
    "import mplcyberpunk\n",
    "%matplotlib inline\n",
    "plt.style.use('cyberpunk')\n",
    "import scipy.stats as stats"
   ]
  },
  {
   "cell_type": "markdown",
   "metadata": {},
   "source": [
    "## Data Preprocessing"
   ]
  },
  {
   "cell_type": "code",
   "execution_count": 2,
   "metadata": {
    "id": "O58KU3HfxPnz"
   },
   "outputs": [],
   "source": [
    "train_path = '/Users/rudra_sarkar/Documents/Mtech Second Sem/Research Methodology/NSL-KDD/archive (2)/nsl-kdd/KDDTrain+.txt'\n",
    "train_df = pd.read_csv(train_path, sep = ',', encoding = 'utf-8')\n",
    "\n",
    "columns = (['duration','protocol_type','service','flag','src_bytes','dst_bytes','land','wrong_fragment','urgent','hot',\n",
    "            'num_failed_logins','logged_in','num_compromised','root_shell','su_attempted','num_root','num_file_creations',\n",
    "            'num_shells','num_access_files','num_outbound_cmds','is_host_login','is_guest_login','count','srv_count',\n",
    "            'serror_rate','srv_serror_rate','rerror_rate','srv_rerror_rate','same_srv_rate','diff_srv_rate','srv_diff_host_rate',\n",
    "            'dst_host_count','dst_host_srv_count','dst_host_same_srv_rate','dst_host_diff_srv_rate','dst_host_same_src_port_rate',\n",
    "            'dst_host_srv_diff_host_rate','dst_host_serror_rate','dst_host_srv_serror_rate','dst_host_rerror_rate',\n",
    "            'dst_host_srv_rerror_rate','attack','level'])\n",
    "train_df.columns = columns\n",
    "kdd_test_df = pd.read_csv('/Users/rudra_sarkar/Documents/Mtech Second Sem/Research Methodology/NSL-KDD/archive (2)/nsl-kdd/KDDTest+.txt', sep = ',', encoding = 'utf-8' )\n",
    "kdd_test_df.columns = columns\n",
    "\n",
    "merged_df = pd.concat([train_df, kdd_test_df], ignore_index = True)"
   ]
  },
  {
   "cell_type": "code",
   "execution_count": 3,
   "metadata": {},
   "outputs": [
    {
     "data": {
      "text/plain": [
       "22543"
      ]
     },
     "execution_count": 3,
     "metadata": {},
     "output_type": "execute_result"
    }
   ],
   "source": [
    "len(kdd_test_df)"
   ]
  },
  {
   "cell_type": "code",
   "execution_count": 4,
   "metadata": {
    "colab": {
     "base_uri": "https://localhost:8080/",
     "height": 268
    },
    "id": "cLArBf0u3J02",
    "outputId": "c36aaf1a-7ebd-4622-a42d-65d9ddad757d"
   },
   "outputs": [
    {
     "data": {
      "text/html": [
       "<div>\n",
       "<style scoped>\n",
       "    .dataframe tbody tr th:only-of-type {\n",
       "        vertical-align: middle;\n",
       "    }\n",
       "\n",
       "    .dataframe tbody tr th {\n",
       "        vertical-align: top;\n",
       "    }\n",
       "\n",
       "    .dataframe thead th {\n",
       "        text-align: right;\n",
       "    }\n",
       "</style>\n",
       "<table border=\"1\" class=\"dataframe\">\n",
       "  <thead>\n",
       "    <tr style=\"text-align: right;\">\n",
       "      <th></th>\n",
       "      <th>duration</th>\n",
       "      <th>protocol_type</th>\n",
       "      <th>service</th>\n",
       "      <th>flag</th>\n",
       "      <th>src_bytes</th>\n",
       "      <th>dst_bytes</th>\n",
       "      <th>land</th>\n",
       "      <th>wrong_fragment</th>\n",
       "      <th>urgent</th>\n",
       "      <th>hot</th>\n",
       "      <th>...</th>\n",
       "      <th>dst_host_same_srv_rate</th>\n",
       "      <th>dst_host_diff_srv_rate</th>\n",
       "      <th>dst_host_same_src_port_rate</th>\n",
       "      <th>dst_host_srv_diff_host_rate</th>\n",
       "      <th>dst_host_serror_rate</th>\n",
       "      <th>dst_host_srv_serror_rate</th>\n",
       "      <th>dst_host_rerror_rate</th>\n",
       "      <th>dst_host_srv_rerror_rate</th>\n",
       "      <th>attack</th>\n",
       "      <th>level</th>\n",
       "    </tr>\n",
       "  </thead>\n",
       "  <tbody>\n",
       "    <tr>\n",
       "      <th>0</th>\n",
       "      <td>0</td>\n",
       "      <td>udp</td>\n",
       "      <td>other</td>\n",
       "      <td>SF</td>\n",
       "      <td>146</td>\n",
       "      <td>0</td>\n",
       "      <td>0</td>\n",
       "      <td>0</td>\n",
       "      <td>0</td>\n",
       "      <td>0</td>\n",
       "      <td>...</td>\n",
       "      <td>0.0</td>\n",
       "      <td>0.60</td>\n",
       "      <td>0.88</td>\n",
       "      <td>0.00</td>\n",
       "      <td>0.00</td>\n",
       "      <td>0.00</td>\n",
       "      <td>0.0</td>\n",
       "      <td>0.00</td>\n",
       "      <td>normal</td>\n",
       "      <td>15</td>\n",
       "    </tr>\n",
       "    <tr>\n",
       "      <th>1</th>\n",
       "      <td>0</td>\n",
       "      <td>tcp</td>\n",
       "      <td>private</td>\n",
       "      <td>S0</td>\n",
       "      <td>0</td>\n",
       "      <td>0</td>\n",
       "      <td>0</td>\n",
       "      <td>0</td>\n",
       "      <td>0</td>\n",
       "      <td>0</td>\n",
       "      <td>...</td>\n",
       "      <td>0.1</td>\n",
       "      <td>0.05</td>\n",
       "      <td>0.00</td>\n",
       "      <td>0.00</td>\n",
       "      <td>1.00</td>\n",
       "      <td>1.00</td>\n",
       "      <td>0.0</td>\n",
       "      <td>0.00</td>\n",
       "      <td>neptune</td>\n",
       "      <td>19</td>\n",
       "    </tr>\n",
       "    <tr>\n",
       "      <th>2</th>\n",
       "      <td>0</td>\n",
       "      <td>tcp</td>\n",
       "      <td>http</td>\n",
       "      <td>SF</td>\n",
       "      <td>232</td>\n",
       "      <td>8153</td>\n",
       "      <td>0</td>\n",
       "      <td>0</td>\n",
       "      <td>0</td>\n",
       "      <td>0</td>\n",
       "      <td>...</td>\n",
       "      <td>1.0</td>\n",
       "      <td>0.00</td>\n",
       "      <td>0.03</td>\n",
       "      <td>0.04</td>\n",
       "      <td>0.03</td>\n",
       "      <td>0.01</td>\n",
       "      <td>0.0</td>\n",
       "      <td>0.01</td>\n",
       "      <td>normal</td>\n",
       "      <td>21</td>\n",
       "    </tr>\n",
       "    <tr>\n",
       "      <th>3</th>\n",
       "      <td>0</td>\n",
       "      <td>tcp</td>\n",
       "      <td>http</td>\n",
       "      <td>SF</td>\n",
       "      <td>199</td>\n",
       "      <td>420</td>\n",
       "      <td>0</td>\n",
       "      <td>0</td>\n",
       "      <td>0</td>\n",
       "      <td>0</td>\n",
       "      <td>...</td>\n",
       "      <td>1.0</td>\n",
       "      <td>0.00</td>\n",
       "      <td>0.00</td>\n",
       "      <td>0.00</td>\n",
       "      <td>0.00</td>\n",
       "      <td>0.00</td>\n",
       "      <td>0.0</td>\n",
       "      <td>0.00</td>\n",
       "      <td>normal</td>\n",
       "      <td>21</td>\n",
       "    </tr>\n",
       "  </tbody>\n",
       "</table>\n",
       "<p>4 rows × 43 columns</p>\n",
       "</div>"
      ],
      "text/plain": [
       "   duration protocol_type  service flag  src_bytes  dst_bytes  land  \\\n",
       "0         0           udp    other   SF        146          0     0   \n",
       "1         0           tcp  private   S0          0          0     0   \n",
       "2         0           tcp     http   SF        232       8153     0   \n",
       "3         0           tcp     http   SF        199        420     0   \n",
       "\n",
       "   wrong_fragment  urgent  hot  ...  dst_host_same_srv_rate  \\\n",
       "0               0       0    0  ...                     0.0   \n",
       "1               0       0    0  ...                     0.1   \n",
       "2               0       0    0  ...                     1.0   \n",
       "3               0       0    0  ...                     1.0   \n",
       "\n",
       "   dst_host_diff_srv_rate  dst_host_same_src_port_rate  \\\n",
       "0                    0.60                         0.88   \n",
       "1                    0.05                         0.00   \n",
       "2                    0.00                         0.03   \n",
       "3                    0.00                         0.00   \n",
       "\n",
       "   dst_host_srv_diff_host_rate  dst_host_serror_rate  \\\n",
       "0                         0.00                  0.00   \n",
       "1                         0.00                  1.00   \n",
       "2                         0.04                  0.03   \n",
       "3                         0.00                  0.00   \n",
       "\n",
       "   dst_host_srv_serror_rate  dst_host_rerror_rate  dst_host_srv_rerror_rate  \\\n",
       "0                      0.00                   0.0                      0.00   \n",
       "1                      1.00                   0.0                      0.00   \n",
       "2                      0.01                   0.0                      0.01   \n",
       "3                      0.00                   0.0                      0.00   \n",
       "\n",
       "    attack  level  \n",
       "0   normal     15  \n",
       "1  neptune     19  \n",
       "2   normal     21  \n",
       "3   normal     21  \n",
       "\n",
       "[4 rows x 43 columns]"
      ]
     },
     "execution_count": 4,
     "metadata": {},
     "output_type": "execute_result"
    }
   ],
   "source": [
    "\n",
    "merged_df.head(4)"
   ]
  },
  {
   "cell_type": "code",
   "execution_count": 5,
   "metadata": {
    "colab": {
     "base_uri": "https://localhost:8080/"
    },
    "id": "QG5avYyWzjwg",
    "outputId": "7014fefe-37cd-4618-b758-3f8b66157557"
   },
   "outputs": [
    {
     "name": "stdout",
     "output_type": "stream",
     "text": [
      "The shape of the dataframe is (148515, 43)\n"
     ]
    }
   ],
   "source": [
    "print(f\"The shape of the dataframe is {merged_df.shape}\")"
   ]
  },
  {
   "cell_type": "code",
   "execution_count": 6,
   "metadata": {
    "colab": {
     "base_uri": "https://localhost:8080/"
    },
    "id": "o0AEZ9gMU8gs",
    "outputId": "ba14cc64-3ccc-4b2a-d38d-03955e365e27"
   },
   "outputs": [
    {
     "name": "stdout",
     "output_type": "stream",
     "text": [
      "0 null values present in the dataset\n"
     ]
    }
   ],
   "source": [
    "def check_null(df: pd.DataFrame):\n",
    "    if sum(df.isna().sum()) == 0:\n",
    "        return \"0 null values present in the dataset\"\n",
    "    return f\"{sum(df.isna().sum())} null values are present in the dataset\"\n",
    "print(check_null(merged_df))"
   ]
  },
  {
   "cell_type": "code",
   "execution_count": 7,
   "metadata": {
    "colab": {
     "base_uri": "https://localhost:8080/"
    },
    "id": "wlG3ptU6VMNk",
    "outputId": "b917e068-c798-4e38-e641-0c7fdd0394b0"
   },
   "outputs": [
    {
     "name": "stdout",
     "output_type": "stream",
     "text": [
      "The numerical attributes of the dataset are : ['duration', 'src_bytes', 'dst_bytes', 'land', 'wrong_fragment', 'urgent', 'hot', 'num_failed_logins', 'logged_in', 'num_compromised', 'root_shell', 'su_attempted', 'num_root', 'num_file_creations', 'num_shells', 'num_access_files', 'num_outbound_cmds', 'is_host_login', 'is_guest_login', 'count', 'srv_count', 'serror_rate', 'srv_serror_rate', 'rerror_rate', 'srv_rerror_rate', 'same_srv_rate', 'diff_srv_rate', 'srv_diff_host_rate', 'dst_host_count', 'dst_host_srv_count', 'dst_host_same_srv_rate', 'dst_host_diff_srv_rate', 'dst_host_same_src_port_rate', 'dst_host_srv_diff_host_rate', 'dst_host_serror_rate', 'dst_host_srv_serror_rate', 'dst_host_rerror_rate', 'dst_host_srv_rerror_rate', 'level']\n",
      "Total number of numerical features is : 39\n"
     ]
    }
   ],
   "source": [
    "def find_numerical_features(df:pd.DataFrame):\n",
    "    \n",
    "    num_features = []\n",
    "    for i in df.columns:\n",
    "        if df.dtypes[i] == 'int' or df.dtypes[i] == 'float':\n",
    "            num_features.append(i)\n",
    "    return num_features\n",
    "\n",
    "num_features = find_numerical_features(merged_df)\n",
    "print(f\"The numerical attributes of the dataset are : {num_features}\")\n",
    "print(f\"Total number of numerical features is : {len(num_features)}\")"
   ]
  },
  {
   "cell_type": "code",
   "execution_count": 8,
   "metadata": {
    "colab": {
     "base_uri": "https://localhost:8080/"
    },
    "id": "J9dWcL2eVPxc",
    "outputId": "6bc76cff-f4d4-4b55-baac-d7b4528dc5de"
   },
   "outputs": [
    {
     "name": "stdout",
     "output_type": "stream",
     "text": [
      "The Categorical fetaures are : ['protocol_type', 'service', 'flag', 'attack']\n",
      "Total number of categorical features is : 4\n"
     ]
    }
   ],
   "source": [
    "def find_categorical_features(df:pd.DataFrame):\n",
    "    cat_features = []\n",
    "    for col in df.columns:\n",
    "        if df.dtypes[col] == 'object':\n",
    "            cat_features.append(col)\n",
    "    return cat_features\n",
    "\n",
    "cat_features = find_categorical_features(merged_df)\n",
    "print(f\"The Categorical fetaures are : {cat_features}\")\n",
    "print(f\"Total number of categorical features is : {len(cat_features)}\")"
   ]
  },
  {
   "cell_type": "code",
   "execution_count": 9,
   "metadata": {
    "id": "1Fv-lRFQeR6N"
   },
   "outputs": [],
   "source": [
    "def label_encode_dataframe(df:pd.DataFrame, cat_features):\n",
    "    df = df.copy()\n",
    "    from sklearn.preprocessing import LabelEncoder\n",
    "    le = LabelEncoder()\n",
    "\n",
    "    for feature in cat_features:\n",
    "        df[feature] = le.fit_transform(df[feature])\n",
    "    return df\n",
    "\n",
    "le_df = label_encode_dataframe(merged_df, cat_features)"
   ]
  },
  {
   "cell_type": "markdown",
   "metadata": {},
   "source": [
    "## Feature Engineering "
   ]
  },
  {
   "cell_type": "code",
   "execution_count": 17,
   "metadata": {},
   "outputs": [
    {
     "name": "stderr",
     "output_type": "stream",
     "text": [
      "/var/folders/hm/zkw7hzv11y3_tq94hzdb87xw0000gn/T/ipykernel_1797/3836754276.py:4: SettingWithCopyWarning: \n",
      "A value is trying to be set on a copy of a slice from a DataFrame\n",
      "\n",
      "See the caveats in the documentation: https://pandas.pydata.org/pandas-docs/stable/user_guide/indexing.html#returning-a-view-versus-a-copy\n",
      "  df_2['attack'].iloc[i] = 0\n",
      "/var/folders/hm/zkw7hzv11y3_tq94hzdb87xw0000gn/T/ipykernel_1797/3836754276.py:6: SettingWithCopyWarning: \n",
      "A value is trying to be set on a copy of a slice from a DataFrame\n",
      "\n",
      "See the caveats in the documentation: https://pandas.pydata.org/pandas-docs/stable/user_guide/indexing.html#returning-a-view-versus-a-copy\n",
      "  df_2['attack'].iloc[i] = 1\n"
     ]
    }
   ],
   "source": [
    "df_2 = merged_df.copy()\n",
    "for i in range(len(df_2)):\n",
    "    if df_2['attack'].iloc[i]=='normal':\n",
    "        df_2['attack'].iloc[i] = 0\n",
    "    else:\n",
    "        df_2['attack'].iloc[i] = 1"
   ]
  },
  {
   "cell_type": "code",
   "execution_count": 18,
   "metadata": {},
   "outputs": [],
   "source": [
    "new_cat_features = ['protocol_type', 'service', 'flag']"
   ]
  },
  {
   "cell_type": "code",
   "execution_count": 19,
   "metadata": {},
   "outputs": [
    {
     "data": {
      "text/html": [
       "<div>\n",
       "<style scoped>\n",
       "    .dataframe tbody tr th:only-of-type {\n",
       "        vertical-align: middle;\n",
       "    }\n",
       "\n",
       "    .dataframe tbody tr th {\n",
       "        vertical-align: top;\n",
       "    }\n",
       "\n",
       "    .dataframe thead th {\n",
       "        text-align: right;\n",
       "    }\n",
       "</style>\n",
       "<table border=\"1\" class=\"dataframe\">\n",
       "  <thead>\n",
       "    <tr style=\"text-align: right;\">\n",
       "      <th></th>\n",
       "      <th>duration</th>\n",
       "      <th>protocol_type</th>\n",
       "      <th>service</th>\n",
       "      <th>flag</th>\n",
       "      <th>src_bytes</th>\n",
       "      <th>dst_bytes</th>\n",
       "      <th>land</th>\n",
       "      <th>wrong_fragment</th>\n",
       "      <th>urgent</th>\n",
       "      <th>hot</th>\n",
       "      <th>...</th>\n",
       "      <th>dst_host_same_srv_rate</th>\n",
       "      <th>dst_host_diff_srv_rate</th>\n",
       "      <th>dst_host_same_src_port_rate</th>\n",
       "      <th>dst_host_srv_diff_host_rate</th>\n",
       "      <th>dst_host_serror_rate</th>\n",
       "      <th>dst_host_srv_serror_rate</th>\n",
       "      <th>dst_host_rerror_rate</th>\n",
       "      <th>dst_host_srv_rerror_rate</th>\n",
       "      <th>attack</th>\n",
       "      <th>level</th>\n",
       "    </tr>\n",
       "  </thead>\n",
       "  <tbody>\n",
       "    <tr>\n",
       "      <th>0</th>\n",
       "      <td>0</td>\n",
       "      <td>2</td>\n",
       "      <td>44</td>\n",
       "      <td>9</td>\n",
       "      <td>146</td>\n",
       "      <td>0</td>\n",
       "      <td>0</td>\n",
       "      <td>0</td>\n",
       "      <td>0</td>\n",
       "      <td>0</td>\n",
       "      <td>...</td>\n",
       "      <td>0.00</td>\n",
       "      <td>0.60</td>\n",
       "      <td>0.88</td>\n",
       "      <td>0.00</td>\n",
       "      <td>0.00</td>\n",
       "      <td>0.00</td>\n",
       "      <td>0.0</td>\n",
       "      <td>0.00</td>\n",
       "      <td>0</td>\n",
       "      <td>15</td>\n",
       "    </tr>\n",
       "    <tr>\n",
       "      <th>1</th>\n",
       "      <td>0</td>\n",
       "      <td>1</td>\n",
       "      <td>49</td>\n",
       "      <td>5</td>\n",
       "      <td>0</td>\n",
       "      <td>0</td>\n",
       "      <td>0</td>\n",
       "      <td>0</td>\n",
       "      <td>0</td>\n",
       "      <td>0</td>\n",
       "      <td>...</td>\n",
       "      <td>0.10</td>\n",
       "      <td>0.05</td>\n",
       "      <td>0.00</td>\n",
       "      <td>0.00</td>\n",
       "      <td>1.00</td>\n",
       "      <td>1.00</td>\n",
       "      <td>0.0</td>\n",
       "      <td>0.00</td>\n",
       "      <td>1</td>\n",
       "      <td>19</td>\n",
       "    </tr>\n",
       "    <tr>\n",
       "      <th>2</th>\n",
       "      <td>0</td>\n",
       "      <td>1</td>\n",
       "      <td>24</td>\n",
       "      <td>9</td>\n",
       "      <td>232</td>\n",
       "      <td>8153</td>\n",
       "      <td>0</td>\n",
       "      <td>0</td>\n",
       "      <td>0</td>\n",
       "      <td>0</td>\n",
       "      <td>...</td>\n",
       "      <td>1.00</td>\n",
       "      <td>0.00</td>\n",
       "      <td>0.03</td>\n",
       "      <td>0.04</td>\n",
       "      <td>0.03</td>\n",
       "      <td>0.01</td>\n",
       "      <td>0.0</td>\n",
       "      <td>0.01</td>\n",
       "      <td>0</td>\n",
       "      <td>21</td>\n",
       "    </tr>\n",
       "    <tr>\n",
       "      <th>3</th>\n",
       "      <td>0</td>\n",
       "      <td>1</td>\n",
       "      <td>24</td>\n",
       "      <td>9</td>\n",
       "      <td>199</td>\n",
       "      <td>420</td>\n",
       "      <td>0</td>\n",
       "      <td>0</td>\n",
       "      <td>0</td>\n",
       "      <td>0</td>\n",
       "      <td>...</td>\n",
       "      <td>1.00</td>\n",
       "      <td>0.00</td>\n",
       "      <td>0.00</td>\n",
       "      <td>0.00</td>\n",
       "      <td>0.00</td>\n",
       "      <td>0.00</td>\n",
       "      <td>0.0</td>\n",
       "      <td>0.00</td>\n",
       "      <td>0</td>\n",
       "      <td>21</td>\n",
       "    </tr>\n",
       "    <tr>\n",
       "      <th>4</th>\n",
       "      <td>0</td>\n",
       "      <td>1</td>\n",
       "      <td>49</td>\n",
       "      <td>1</td>\n",
       "      <td>0</td>\n",
       "      <td>0</td>\n",
       "      <td>0</td>\n",
       "      <td>0</td>\n",
       "      <td>0</td>\n",
       "      <td>0</td>\n",
       "      <td>...</td>\n",
       "      <td>0.07</td>\n",
       "      <td>0.07</td>\n",
       "      <td>0.00</td>\n",
       "      <td>0.00</td>\n",
       "      <td>0.00</td>\n",
       "      <td>0.00</td>\n",
       "      <td>1.0</td>\n",
       "      <td>1.00</td>\n",
       "      <td>1</td>\n",
       "      <td>21</td>\n",
       "    </tr>\n",
       "    <tr>\n",
       "      <th>5</th>\n",
       "      <td>0</td>\n",
       "      <td>1</td>\n",
       "      <td>49</td>\n",
       "      <td>5</td>\n",
       "      <td>0</td>\n",
       "      <td>0</td>\n",
       "      <td>0</td>\n",
       "      <td>0</td>\n",
       "      <td>0</td>\n",
       "      <td>0</td>\n",
       "      <td>...</td>\n",
       "      <td>0.04</td>\n",
       "      <td>0.05</td>\n",
       "      <td>0.00</td>\n",
       "      <td>0.00</td>\n",
       "      <td>1.00</td>\n",
       "      <td>1.00</td>\n",
       "      <td>0.0</td>\n",
       "      <td>0.00</td>\n",
       "      <td>1</td>\n",
       "      <td>21</td>\n",
       "    </tr>\n",
       "    <tr>\n",
       "      <th>6</th>\n",
       "      <td>0</td>\n",
       "      <td>1</td>\n",
       "      <td>49</td>\n",
       "      <td>5</td>\n",
       "      <td>0</td>\n",
       "      <td>0</td>\n",
       "      <td>0</td>\n",
       "      <td>0</td>\n",
       "      <td>0</td>\n",
       "      <td>0</td>\n",
       "      <td>...</td>\n",
       "      <td>0.06</td>\n",
       "      <td>0.07</td>\n",
       "      <td>0.00</td>\n",
       "      <td>0.00</td>\n",
       "      <td>1.00</td>\n",
       "      <td>1.00</td>\n",
       "      <td>0.0</td>\n",
       "      <td>0.00</td>\n",
       "      <td>1</td>\n",
       "      <td>21</td>\n",
       "    </tr>\n",
       "    <tr>\n",
       "      <th>7</th>\n",
       "      <td>0</td>\n",
       "      <td>1</td>\n",
       "      <td>51</td>\n",
       "      <td>5</td>\n",
       "      <td>0</td>\n",
       "      <td>0</td>\n",
       "      <td>0</td>\n",
       "      <td>0</td>\n",
       "      <td>0</td>\n",
       "      <td>0</td>\n",
       "      <td>...</td>\n",
       "      <td>0.09</td>\n",
       "      <td>0.05</td>\n",
       "      <td>0.00</td>\n",
       "      <td>0.00</td>\n",
       "      <td>1.00</td>\n",
       "      <td>1.00</td>\n",
       "      <td>0.0</td>\n",
       "      <td>0.00</td>\n",
       "      <td>1</td>\n",
       "      <td>21</td>\n",
       "    </tr>\n",
       "    <tr>\n",
       "      <th>8</th>\n",
       "      <td>0</td>\n",
       "      <td>1</td>\n",
       "      <td>49</td>\n",
       "      <td>5</td>\n",
       "      <td>0</td>\n",
       "      <td>0</td>\n",
       "      <td>0</td>\n",
       "      <td>0</td>\n",
       "      <td>0</td>\n",
       "      <td>0</td>\n",
       "      <td>...</td>\n",
       "      <td>0.05</td>\n",
       "      <td>0.06</td>\n",
       "      <td>0.00</td>\n",
       "      <td>0.00</td>\n",
       "      <td>1.00</td>\n",
       "      <td>1.00</td>\n",
       "      <td>0.0</td>\n",
       "      <td>0.00</td>\n",
       "      <td>1</td>\n",
       "      <td>21</td>\n",
       "    </tr>\n",
       "    <tr>\n",
       "      <th>9</th>\n",
       "      <td>0</td>\n",
       "      <td>1</td>\n",
       "      <td>49</td>\n",
       "      <td>1</td>\n",
       "      <td>0</td>\n",
       "      <td>0</td>\n",
       "      <td>0</td>\n",
       "      <td>0</td>\n",
       "      <td>0</td>\n",
       "      <td>0</td>\n",
       "      <td>...</td>\n",
       "      <td>0.05</td>\n",
       "      <td>0.07</td>\n",
       "      <td>0.00</td>\n",
       "      <td>0.00</td>\n",
       "      <td>0.00</td>\n",
       "      <td>0.00</td>\n",
       "      <td>1.0</td>\n",
       "      <td>1.00</td>\n",
       "      <td>1</td>\n",
       "      <td>21</td>\n",
       "    </tr>\n",
       "  </tbody>\n",
       "</table>\n",
       "<p>10 rows × 43 columns</p>\n",
       "</div>"
      ],
      "text/plain": [
       "   duration  protocol_type  service  flag  src_bytes  dst_bytes  land  \\\n",
       "0         0              2       44     9        146          0     0   \n",
       "1         0              1       49     5          0          0     0   \n",
       "2         0              1       24     9        232       8153     0   \n",
       "3         0              1       24     9        199        420     0   \n",
       "4         0              1       49     1          0          0     0   \n",
       "5         0              1       49     5          0          0     0   \n",
       "6         0              1       49     5          0          0     0   \n",
       "7         0              1       51     5          0          0     0   \n",
       "8         0              1       49     5          0          0     0   \n",
       "9         0              1       49     1          0          0     0   \n",
       "\n",
       "   wrong_fragment  urgent  hot  ...  dst_host_same_srv_rate  \\\n",
       "0               0       0    0  ...                    0.00   \n",
       "1               0       0    0  ...                    0.10   \n",
       "2               0       0    0  ...                    1.00   \n",
       "3               0       0    0  ...                    1.00   \n",
       "4               0       0    0  ...                    0.07   \n",
       "5               0       0    0  ...                    0.04   \n",
       "6               0       0    0  ...                    0.06   \n",
       "7               0       0    0  ...                    0.09   \n",
       "8               0       0    0  ...                    0.05   \n",
       "9               0       0    0  ...                    0.05   \n",
       "\n",
       "   dst_host_diff_srv_rate  dst_host_same_src_port_rate  \\\n",
       "0                    0.60                         0.88   \n",
       "1                    0.05                         0.00   \n",
       "2                    0.00                         0.03   \n",
       "3                    0.00                         0.00   \n",
       "4                    0.07                         0.00   \n",
       "5                    0.05                         0.00   \n",
       "6                    0.07                         0.00   \n",
       "7                    0.05                         0.00   \n",
       "8                    0.06                         0.00   \n",
       "9                    0.07                         0.00   \n",
       "\n",
       "   dst_host_srv_diff_host_rate  dst_host_serror_rate  \\\n",
       "0                         0.00                  0.00   \n",
       "1                         0.00                  1.00   \n",
       "2                         0.04                  0.03   \n",
       "3                         0.00                  0.00   \n",
       "4                         0.00                  0.00   \n",
       "5                         0.00                  1.00   \n",
       "6                         0.00                  1.00   \n",
       "7                         0.00                  1.00   \n",
       "8                         0.00                  1.00   \n",
       "9                         0.00                  0.00   \n",
       "\n",
       "   dst_host_srv_serror_rate  dst_host_rerror_rate  dst_host_srv_rerror_rate  \\\n",
       "0                      0.00                   0.0                      0.00   \n",
       "1                      1.00                   0.0                      0.00   \n",
       "2                      0.01                   0.0                      0.01   \n",
       "3                      0.00                   0.0                      0.00   \n",
       "4                      0.00                   1.0                      1.00   \n",
       "5                      1.00                   0.0                      0.00   \n",
       "6                      1.00                   0.0                      0.00   \n",
       "7                      1.00                   0.0                      0.00   \n",
       "8                      1.00                   0.0                      0.00   \n",
       "9                      0.00                   1.0                      1.00   \n",
       "\n",
       "   attack  level  \n",
       "0       0     15  \n",
       "1       1     19  \n",
       "2       0     21  \n",
       "3       0     21  \n",
       "4       1     21  \n",
       "5       1     21  \n",
       "6       1     21  \n",
       "7       1     21  \n",
       "8       1     21  \n",
       "9       1     21  \n",
       "\n",
       "[10 rows x 43 columns]"
      ]
     },
     "execution_count": 19,
     "metadata": {},
     "output_type": "execute_result"
    }
   ],
   "source": [
    "le_df_binary = label_encode_dataframe(df_2, cat_features)\n",
    "le_df_binary.head(10)"
   ]
  },
  {
   "cell_type": "code",
   "execution_count": 20,
   "metadata": {},
   "outputs": [],
   "source": [
    "data_bin = le_df_binary.copy()\n",
    "data_bin.drop('duration', axis=1, inplace=True)\n",
    "data_bin.drop('attack', axis=1, inplace=True)\n",
    "data_bin.drop('num_outbound_cmds', axis = 1, inplace=True)\n",
    "\n",
    "labels_bin = le_df_binary['attack']\n",
    "\n",
    "data_bin = data_bin / data_bin.max()"
   ]
  },
  {
   "cell_type": "code",
   "execution_count": 21,
   "metadata": {},
   "outputs": [],
   "source": [
    "data_bin = np.array(data_bin)\n",
    "labels_bin = np.array(labels_bin).astype('float64')"
   ]
  },
  {
   "cell_type": "code",
   "execution_count": 22,
   "metadata": {},
   "outputs": [
    {
     "name": "stdout",
     "output_type": "stream",
     "text": [
      "X_train : (100777, 40), y_train : (100777,)\n",
      "X_val : (25195, 40), y_val : (25195,)\n",
      "X_test : (22543, 40), y_test : (22543,)\n"
     ]
    }
   ],
   "source": [
    "X_train_bin, X_val_bin, X_test_bin = data_bin[:int(0.8*len(train_df))], data_bin[int(0.8*len(train_df)):len(train_df)], data_bin[len(train_df):]\n",
    "y_train_bin, y_val_bin, y_test_bin = labels_bin[:int(0.8*len(train_df))], labels_bin[int(0.8*len(train_df)):len(train_df)], labels_bin[len(train_df):]\n",
    "\n",
    "print(f\"X_train : {X_train_bin.shape}, y_train : {y_train_bin.shape}\")\n",
    "print(f\"X_val : {X_val_bin.shape}, y_val : {y_val_bin.shape}\")\n",
    "print(f\"X_test : {X_test_bin.shape}, y_test : {y_test_bin.shape}\")"
   ]
  },
  {
   "cell_type": "markdown",
   "metadata": {},
   "source": [
    "## Two sample Z test for the presence of Anomalies"
   ]
  },
  {
   "cell_type": "code",
   "execution_count": 27,
   "metadata": {},
   "outputs": [
    {
     "data": {
      "text/plain": [
       "<Axes: ylabel='Density'>"
      ]
     },
     "execution_count": 27,
     "metadata": {},
     "output_type": "execute_result"
    },
    {
     "data": {
      "image/png": "[encoded data removed]",
      "text/plain": [
       "<Figure size 640x480 with 1 Axes>"
      ]
     },
     "metadata": {},
     "output_type": "display_data"
    }
   ],
   "source": [
    "ax = df_2['level'].where(df_2['attack']==0).dropna().plot(kind='density')\n",
    "df_2['level'].where(df_2['attack']==1).dropna().plot(kind='density', ax = ax)"
   ]
  },
  {
   "cell_type": "code",
   "execution_count": 28,
   "metadata": {},
   "outputs": [],
   "source": [
    "norm_means = []\n",
    "for i in range(1000):\n",
    "    tmean = df_2['level'].where(df_2['attack']==0).dropna().sample(n=40).mean()\n",
    "    norm_means.append(tmean)"
   ]
  },
  {
   "cell_type": "code",
   "execution_count": 29,
   "metadata": {},
   "outputs": [],
   "source": [
    "ano_means = []\n",
    "for i in range(1000):\n",
    "    amean = df_2['level'].where(df_2['attack']==1).dropna().sample(n=40).mean()\n",
    "    ano_means.append(amean)"
   ]
  },
  {
   "cell_type": "code",
   "execution_count": 30,
   "metadata": {},
   "outputs": [
    {
     "data": {
      "text/plain": [
       "<Axes: ylabel='Density'>"
      ]
     },
     "execution_count": 30,
     "metadata": {},
     "output_type": "execute_result"
    },
    {
     "data": {
      "image/png": "[encoded data removed]",
      "text/plain": [
       "<Figure size 640x480 with 1 Axes>"
      ]
     },
     "metadata": {},
     "output_type": "display_data"
    }
   ],
   "source": [
    "ax = pd.DataFrame(norm_means).plot(kind = 'density')\n",
    "pd.DataFrame(ano_means).plot(kind = 'density', ax = ax)"
   ]
  },
  {
   "cell_type": "code",
   "execution_count": 40,
   "metadata": {},
   "outputs": [
    {
     "name": "stdout",
     "output_type": "stream",
     "text": [
      "z > z_critical , rejected null hypothesis, the probability of a type 1 error is 0.05\n"
     ]
    }
   ],
   "source": [
    "std1 = df_2['level'].where(df_2['attack']==1).dropna().std()\n",
    "std2 = df_2['level'].where(df_2['attack']==0).dropna().std()\n",
    "\n",
    "mu_1bar = np.mean(ano_means)\n",
    "mu_2bar = np.mean(norm_means)\n",
    "\n",
    "n1 = n2 = 40\n",
    "\n",
    "sig_level = 0.05\n",
    "\n",
    "z_critical = abs(stats.norm.ppf(0.05))\n",
    "\n",
    "z = (mu_2bar - mu_1bar)/np.sqrt((std1**2/n1)+(std2**2/n2))\n",
    "\n",
    "if z<=z_critical:print(\"z < z_critical, failed to reject the null hypothesis\")\n",
    "else:print(f\"z > z_critical , rejected null hypothesis, the probability of a type 1 error is {sig_level}\")"
   ]
  },
  {
   "cell_type": "code",
   "execution_count": 54,
   "metadata": {},
   "outputs": [
    {
     "name": "stdout",
     "output_type": "stream",
     "text": [
      "Power of the two sample z test is 97.47%\n"
     ]
    }
   ],
   "source": [
    "## Now we will check the power of the test\n",
    "# if we assume the alternate hypothesis is true, then the new mu_diff = z_critical * np.sqrt((std1**2/n1)+(std2**2/n2))\n",
    "mu_diff = z_critical * np.sqrt((std1**2/n1)+(std2**2/n2))\n",
    "\n",
    "mu_a = abs(mu_1bar - mu_2bar)\n",
    "\n",
    "z_alternate = abs(mu_diff - mu_a)/np.sqrt((std1**2/n1)+(std2**2/n2))\n",
    "\n",
    "false_negative_probability = beta = 1 - stats.norm.cdf(z_alternate)\n",
    "\n",
    "power_of_test = 1 - beta\n",
    "\n",
    "print(f\"Power of the two sample z test is {power_of_test*100:.2f}%\")"
   ]
  },
  {
   "cell_type": "markdown",
   "metadata": {},
   "source": [
    "## Random Forest Classifier"
   ]
  },
  {
   "cell_type": "code",
   "execution_count": 81,
   "metadata": {},
   "outputs": [],
   "source": [
    "from sklearn.ensemble import RandomForestClassifier\n",
    "from sklearn.metrics import roc_auc_score, classification_report, roc_curve\n",
    "\n",
    "rfc = RandomForestClassifier().fit(X_train_bin, y_train_bin)\n",
    "rfc_preds = rfc.predict(X_test_bin)\n",
    "rfc_pred_proba = rfc.predict_proba(X_test_bin)[::,1]\n"
   ]
  },
  {
   "cell_type": "code",
   "execution_count": 82,
   "metadata": {},
   "outputs": [
    {
     "name": "stdout",
     "output_type": "stream",
     "text": [
      "              precision    recall  f1-score   support\n",
      "\n",
      "         0.0       0.72      0.97      0.83      9711\n",
      "         1.0       0.97      0.72      0.83     12832\n",
      "\n",
      "    accuracy                           0.83     22543\n",
      "   macro avg       0.85      0.85      0.83     22543\n",
      "weighted avg       0.86      0.83      0.83     22543\n",
      "\n"
     ]
    }
   ],
   "source": [
    "print(classification_report(y_test_bin, rfc_preds))"
   ]
  },
  {
   "cell_type": "code",
   "execution_count": 85,
   "metadata": {},
   "outputs": [
    {
     "data": {
      "text/plain": [
       "<matplotlib.legend.Legend at 0x28d636020>"
      ]
     },
     "execution_count": 85,
     "metadata": {},
     "output_type": "execute_result"
    },
    {
     "data": {
      "image/png": "[encoded data removed]",
      "text/plain": [
       "<Figure size 640x480 with 1 Axes>"
      ]
     },
     "metadata": {},
     "output_type": "display_data"
    }
   ],
   "source": [
    "fpr_rfc, tpr_rfc , _ = roc_curve(y_test_bin, rfc_pred_proba)\n",
    "auc_score_rfc = roc_auc_score(y_test_bin, rfc_pred_proba)\n",
    "plt.plot(fpr_rfc, tpr_rfc, label = f\"auc-score : {auc_score_rfc}\")\n",
    "plt.legend()"
   ]
  },
  {
   "cell_type": "markdown",
   "metadata": {},
   "source": [
    "## Deep Neural Network "
   ]
  },
  {
   "cell_type": "code",
   "execution_count": 55,
   "metadata": {},
   "outputs": [
    {
     "name": "stdout",
     "output_type": "stream",
     "text": [
      "Metal device set to: Apple M1\n",
      "\n",
      "systemMemory: 8.00 GB\n",
      "maxCacheSize: 2.67 GB\n",
      "\n"
     ]
    },
    {
     "name": "stderr",
     "output_type": "stream",
     "text": [
      "2023-07-05 13:07:12.131129: I tensorflow/core/common_runtime/pluggable_device/pluggable_device_factory.cc:306] Could not identify NUMA node of platform GPU ID 0, defaulting to 0. Your kernel may not have been built with NUMA support.\n",
      "2023-07-05 13:07:12.131555: I tensorflow/core/common_runtime/pluggable_device/pluggable_device_factory.cc:272] Created TensorFlow device (/job:localhost/replica:0/task:0/device:GPU:0 with 0 MB memory) -> physical PluggableDevice (device: 0, name: METAL, pci bus id: <undefined>)\n"
     ]
    }
   ],
   "source": [
    "import tensorflow as tf\n",
    "from tensorflow import keras\n",
    "from keras import layers, Sequential\n",
    "model2 = Sequential([\n",
    "    layers.InputLayer(input_shape=(40,)),\n",
    "    layers.Dense(128, activation='relu'),\n",
    "    layers.BatchNormalization(),\n",
    "    layers.Dropout(0.2),\n",
    "    layers.Dense(128, activation='relu'),\n",
    "    layers.BatchNormalization(),\n",
    "    layers.Dropout(0.2),\n",
    "\n",
    "    layers.Dense(1, activation ='sigmoid')\n",
    "])\n",
    "model2.compile(loss = keras.losses.BinaryCrossentropy(from_logits=True), optimizer=keras.optimizers.legacy.Adam(1e-4, beta_1=5e-2), metrics = [tf.keras.metrics.F1Score(), 'accuracy', tf.keras.metrics.Recall() ],)"
   ]
  },
  {
   "cell_type": "code",
   "execution_count": 56,
   "metadata": {},
   "outputs": [
    {
     "data": {
      "image/png": "[encoded data removed]",
      "text/plain": [
       "<IPython.core.display.Image object>"
      ]
     },
     "execution_count": 56,
     "metadata": {},
     "output_type": "execute_result"
    }
   ],
   "source": [
    "keras.utils.plot_model(model2, show_layer_names=True, show_shapes = True, show_layer_activations = True, expand_nested = True)"
   ]
  },
  {
   "cell_type": "code",
   "execution_count": 57,
   "metadata": {},
   "outputs": [
    {
     "name": "stdout",
     "output_type": "stream",
     "text": [
      "Epoch 1/10\n"
     ]
    },
    {
     "name": "stderr",
     "output_type": "stream",
     "text": [
      "/Users/rudra_sarkar/tensorflow-test/env/lib/python3.10/site-packages/keras/src/backend.py:5805: UserWarning: \"`binary_crossentropy` received `from_logits=True`, but the `output` argument was produced by a Sigmoid activation and thus does not represent logits. Was this intended?\n",
      "  output, from_logits = _get_logits(\n",
      "2023-07-05 13:07:29.591670: I tensorflow/core/grappler/optimizers/custom_graph_optimizer_registry.cc:114] Plugin optimizer for device_type GPU is enabled.\n"
     ]
    },
    {
     "name": "stdout",
     "output_type": "stream",
     "text": [
      "3150/3150 [==============================] - ETA: 0s - loss: 0.0764 - f1_score: 0.6350 - accuracy: 0.9728 - recall: 0.9681"
     ]
    },
    {
     "name": "stderr",
     "output_type": "stream",
     "text": [
      "2023-07-05 13:08:03.875354: I tensorflow/core/grappler/optimizers/custom_graph_optimizer_registry.cc:114] Plugin optimizer for device_type GPU is enabled.\n"
     ]
    },
    {
     "name": "stdout",
     "output_type": "stream",
     "text": [
      "3150/3150 [==============================] - 38s 12ms/step - loss: 0.0764 - f1_score: 0.6350 - accuracy: 0.9728 - recall: 0.9681 - val_loss: 0.4441 - val_f1_score: 0.7255 - val_accuracy: 0.8626 - val_recall: 0.7824\n",
      "Epoch 2/10\n",
      "3150/3150 [==============================] - 36s 11ms/step - loss: 0.0261 - f1_score: 0.6350 - accuracy: 0.9915 - recall: 0.9911 - val_loss: 0.5093 - val_f1_score: 0.7255 - val_accuracy: 0.8655 - val_recall: 0.7874\n",
      "Epoch 3/10\n",
      "3150/3150 [==============================] - 36s 11ms/step - loss: 0.0188 - f1_score: 0.6350 - accuracy: 0.9939 - recall: 0.9938 - val_loss: 0.5666 - val_f1_score: 0.7255 - val_accuracy: 0.8615 - val_recall: 0.7817\n",
      "Epoch 4/10\n",
      "3150/3150 [==============================] - 36s 12ms/step - loss: 0.0152 - f1_score: 0.6350 - accuracy: 0.9948 - recall: 0.9951 - val_loss: 0.6858 - val_f1_score: 0.7255 - val_accuracy: 0.8488 - val_recall: 0.7583\n",
      "Epoch 5/10\n",
      "3150/3150 [==============================] - 36s 12ms/step - loss: 0.0129 - f1_score: 0.6350 - accuracy: 0.9957 - recall: 0.9959 - val_loss: 0.6884 - val_f1_score: 0.7255 - val_accuracy: 0.8557 - val_recall: 0.7701\n",
      "Epoch 6/10\n",
      "3150/3150 [==============================] - 37s 12ms/step - loss: 0.0115 - f1_score: 0.6351 - accuracy: 0.9961 - recall: 0.9964 - val_loss: 0.7059 - val_f1_score: 0.7255 - val_accuracy: 0.8531 - val_recall: 0.7649\n",
      "Epoch 7/10\n",
      "3150/3150 [==============================] - 38s 12ms/step - loss: 0.0105 - f1_score: 0.6351 - accuracy: 0.9964 - recall: 0.9966 - val_loss: 0.7447 - val_f1_score: 0.7255 - val_accuracy: 0.8479 - val_recall: 0.7569\n",
      "Epoch 8/10\n",
      "3150/3150 [==============================] - 37s 12ms/step - loss: 0.0095 - f1_score: 0.6351 - accuracy: 0.9970 - recall: 0.9974 - val_loss: 0.7363 - val_f1_score: 0.7255 - val_accuracy: 0.8482 - val_recall: 0.7618\n",
      "Epoch 9/10\n",
      "3150/3150 [==============================] - 36s 11ms/step - loss: 0.0089 - f1_score: 0.6352 - accuracy: 0.9970 - recall: 0.9972 - val_loss: 0.7237 - val_f1_score: 0.7255 - val_accuracy: 0.8525 - val_recall: 0.7668\n",
      "Epoch 10/10\n",
      "3150/3150 [==============================] - 36s 11ms/step - loss: 0.0083 - f1_score: 0.6353 - accuracy: 0.9971 - recall: 0.9973 - val_loss: 0.7613 - val_f1_score: 0.7255 - val_accuracy: 0.8525 - val_recall: 0.7645\n"
     ]
    }
   ],
   "source": [
    "attack_detection_model_history = model2.fit(X_train_bin, y_train_bin, validation_data=(X_test_bin, y_test_bin), epochs = 10, shuffle = True)"
   ]
  },
  {
   "cell_type": "code",
   "execution_count": 58,
   "metadata": {},
   "outputs": [
    {
     "name": "stdout",
     "output_type": "stream",
     "text": [
      "705/705 [==============================] - 4s 6ms/step - loss: 0.7613 - f1_score: 0.7255 - accuracy: 0.8525 - recall: 0.7645\n"
     ]
    },
    {
     "data": {
      "text/plain": [
       "[0.7612874507904053,\n",
       " array([0.72548413], dtype=float32),\n",
       " 0.8524597883224487,\n",
       " 0.7644950151443481]"
      ]
     },
     "execution_count": 58,
     "metadata": {},
     "output_type": "execute_result"
    }
   ],
   "source": [
    "model2.evaluate(X_test_bin, y_test_bin)"
   ]
  },
  {
   "cell_type": "code",
   "execution_count": 61,
   "metadata": {},
   "outputs": [
    {
     "name": "stdout",
     "output_type": "stream",
     "text": [
      "705/705 [==============================] - 2s 3ms/step\n",
      "[[1.]\n",
      " [0.]\n",
      " [1.]\n",
      " ...\n",
      " [1.]\n",
      " [0.]\n",
      " [1.]]\n"
     ]
    }
   ],
   "source": [
    "preds = model2.predict(X_test_bin)\n",
    "preds = np.round(preds)\n",
    "print(preds)"
   ]
  },
  {
   "cell_type": "code",
   "execution_count": 65,
   "metadata": {},
   "outputs": [
    {
     "name": "stdout",
     "output_type": "stream",
     "text": [
      "              precision    recall  f1-score   support\n",
      "\n",
      "         0.0       0.76      0.97      0.85      9711\n",
      "         1.0       0.97      0.76      0.86     12832\n",
      "\n",
      "    accuracy                           0.85     22543\n",
      "   macro avg       0.86      0.87      0.85     22543\n",
      "weighted avg       0.88      0.85      0.85     22543\n",
      "\n"
     ]
    }
   ],
   "source": [
    "\n",
    "print(classification_report(y_test_bin, preds))"
   ]
  },
  {
   "cell_type": "code",
   "execution_count": 78,
   "metadata": {},
   "outputs": [
    {
     "name": "stdout",
     "output_type": "stream",
     "text": [
      "705/705 [==============================] - 2s 2ms/step\n"
     ]
    },
    {
     "data": {
      "text/plain": [
       "<matplotlib.legend.Legend at 0x3127f1d20>"
      ]
     },
     "execution_count": 78,
     "metadata": {},
     "output_type": "execute_result"
    },
    {
     "data": {
      "image/png": "[encoded data removed]",
      "text/plain": [
       "<Figure size 640x480 with 1 Axes>"
      ]
     },
     "metadata": {},
     "output_type": "display_data"
    }
   ],
   "source": [
    "pred_prob = model2.predict(X_test_bin)\n",
    "fpr, tpr, _ = roc_curve(y_test_bin, pred_prob)\n",
    "auc_score = roc_auc_score(y_test_bin, pred_prob)\n",
    "plt.plot(fpr, tpr, label = f\"auc-score : {auc_score}\")\n",
    "plt.legend()"
   ]
  }
 ],
 "metadata": {
  "accelerator": "GPU",
  "colab": {
   "gpuType": "T4",
   "provenance": []
  },
  "gpuClass": "standard",
  "kernelspec": {
   "display_name": "Python 3 (ipykernel)",
   "language": "python",
   "name": "python3"
  },
  "language_info": {
   "codemirror_mode": {
    "name": "ipython",
    "version": 3
   },
   "file_extension": ".py",
   "mimetype": "text/x-python",
   "name": "python",
   "nbconvert_exporter": "python",
   "pygments_lexer": "ipython3",
   "version": "3.10.9"
  },
  "vscode": {
   "interpreter": {
    "hash": "2be79a5d25df7058c6733878f0b0d6b03e2f1a88ab79fd680d17e721a49649e7"
   }
  }
 },
 "nbformat": 4,
 "nbformat_minor": 1
}
